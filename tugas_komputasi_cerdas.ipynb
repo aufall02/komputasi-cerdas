{
  "cells": [
    {
      "cell_type": "markdown",
      "metadata": {
        "colab_type": "text",
        "id": "view-in-github"
      },
      "source": [
        "<a href=\"https://colab.research.google.com/github/aufall02/komputasi-cerdas/blob/main/tugas_komputasi_cerdas.ipynb\" target=\"_parent\"><img src=\"https://colab.research.google.com/assets/colab-badge.svg\" alt=\"Open In Colab\"/></a>"
      ]
    },
    {
      "cell_type": "code",
      "execution_count": null,
      "metadata": {
        "colab": {
          "base_uri": "https://localhost:8080/"
        },
        "id": "OYPePar1RiQ6",
        "outputId": "d92444ac-41c0-4a16-e516-f9600df4c3eb"
      },
      "outputs": [
        {
          "ename": "",
          "evalue": "",
          "output_type": "error",
          "traceback": [
            "\u001b[1;31mThe kernel failed to start due to the missing module 'prompt_toolkit.formatted_text'. Consider installing this module.\n",
            "\u001b[1;31mClick <a href='https://aka.ms/kernelFailuresMissingModule'>here</a> for more info."
          ]
        }
      ],
      "source": [
        "import math\n",
        "\n",
        "def cari_akar_kuadrat(a, b, c):\n",
        "    # Hitung determinan\n",
        "    D = b**2 - 4*a*c\n",
        "\n",
        "    # Inisialisasi variabel untuk menyimpan nilai akar\n",
        "    x1 = None\n",
        "    x2 = None\n",
        "\n",
        "    # Cek nilai determinan\n",
        "    if D < 0:\n",
        "        print(\"Tidak ada akar kuadrat\")\n",
        "    elif D == 0:\n",
        "        x1 = -b / (2 * a)\n",
        "        print(f\"Akar kuadrat kembar: x1 = x2 = {x1}\")\n",
        "    else:\n",
        "        # math.sqrt adalah function bawaan dari modul math  yagn fungsinya\n",
        "        # untuk mencari akar quadrat dari suatu angka\n",
        "        x1 = (-b - math.sqrt(D)) / (2 * a)\n",
        "        x2 = (-b + math.sqrt(D)) / (2 * a)\n",
        "        print(f\"Akar kuadrat berbeda: x1 = {x1}, x2 = {x2}\")\n",
        "\n",
        "    return x1, x2\n",
        "\n",
        "\n",
        "\"CONTOH SOAL\"\n",
        "data = [\n",
        "    {\"a\": 1, \"b\":-5, \"c\": 4},\n",
        "    {\"a\": 3, \"b\": 6, \"c\": 3},\n",
        "    {\"a\": 2, \"b\":-5, \"c\": 2},\n",
        "    {\"a\": 4, \"b\":12, \"c\": 9},\n",
        "    {\"a\": 1, \"b\": 8, \"c\":16},\n",
        "    {\"a\": 2, \"b\":-3, \"c\":-5},\n",
        "    {\"a\": 3, \"b\": 5, \"c\": 2},\n",
        "    {\"a\": 1, \"b\":-10, \"c\":25},\n",
        "    {\"a\": 2, \"b\": 7, \"c\": 3},\n",
        "    {\"a\": 4, \"b\": -8, \"c\":-12},\n",
        "    ]\n",
        "\n",
        "for ids , soal in enumerate(data):\n",
        "    a = soal[\"a\"]\n",
        "    b = soal[\"b\"]\n",
        "    c = soal[\"c\"]\n",
        "    print(\"jawaban soal \", ids+1 )\n",
        "    cari_akar_kuadrat(a, b, c)\n",
        "    print('\\n')"
      ]
    },
    {
      "cell_type": "code",
      "execution_count": null,
      "metadata": {
        "id": "P-MLRCSVSx1d"
      },
      "outputs": [],
      "source": []
    }
  ],
  "metadata": {
    "colab": {
      "authorship_tag": "ABX9TyP1QQvLdFGmUZauxqWhwZBP",
      "include_colab_link": true,
      "provenance": []
    },
    "kernelspec": {
      "display_name": "Python 3",
      "name": "python3"
    },
    "language_info": {
      "codemirror_mode": {
        "name": "ipython",
        "version": 3
      },
      "file_extension": ".py",
      "mimetype": "text/x-python",
      "name": "python",
      "nbconvert_exporter": "python",
      "pygments_lexer": "ipython3",
      "version": "3.12.0"
    }
  },
  "nbformat": 4,
  "nbformat_minor": 0
}
