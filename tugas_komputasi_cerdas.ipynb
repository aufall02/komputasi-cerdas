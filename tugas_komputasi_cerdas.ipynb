{
  "nbformat": 4,
  "nbformat_minor": 0,
  "metadata": {
    "colab": {
      "provenance": [],
      "authorship_tag": "ABX9TyP1QQvLdFGmUZauxqWhwZBP",
      "include_colab_link": true
    },
    "kernelspec": {
      "name": "python3",
      "display_name": "Python 3"
    },
    "language_info": {
      "name": "python"
    }
  },
  "cells": [
    {
      "cell_type": "markdown",
      "metadata": {
        "id": "view-in-github",
        "colab_type": "text"
      },
      "source": [
        "<a href=\"https://colab.research.google.com/github/aufall02/komputasi-cerdas/blob/main/tugas_komputasi_cerdas.ipynb\" target=\"_parent\"><img src=\"https://colab.research.google.com/assets/colab-badge.svg\" alt=\"Open In Colab\"/></a>"
      ]
    },
    {
      "cell_type": "code",
      "execution_count": 21,
      "metadata": {
        "colab": {
          "base_uri": "https://localhost:8080/"
        },
        "id": "OYPePar1RiQ6",
        "outputId": "d92444ac-41c0-4a16-e516-f9600df4c3eb"
      },
      "outputs": [
        {
          "output_type": "stream",
          "name": "stdout",
          "text": [
            "jawaban soal  1\n",
            "Akar kuadrat berbeda: x1 = 1.0, x2 = 4.0\n",
            "\n",
            "\n",
            "jawaban soal  2\n",
            "Akar kuadrat kembar: x1 = x2 = -1.0\n",
            "\n",
            "\n",
            "jawaban soal  3\n",
            "Akar kuadrat berbeda: x1 = 0.5, x2 = 2.0\n",
            "\n",
            "\n",
            "jawaban soal  4\n",
            "Akar kuadrat kembar: x1 = x2 = -1.5\n",
            "\n",
            "\n",
            "jawaban soal  5\n",
            "Akar kuadrat kembar: x1 = x2 = -4.0\n",
            "\n",
            "\n",
            "jawaban soal  6\n",
            "Akar kuadrat berbeda: x1 = -1.0, x2 = 2.5\n",
            "\n",
            "\n",
            "jawaban soal  7\n",
            "Akar kuadrat berbeda: x1 = -1.0, x2 = -0.6666666666666666\n",
            "\n",
            "\n",
            "jawaban soal  8\n",
            "Akar kuadrat kembar: x1 = x2 = 5.0\n",
            "\n",
            "\n",
            "jawaban soal  9\n",
            "Akar kuadrat berbeda: x1 = -3.0, x2 = -0.5\n",
            "\n",
            "\n",
            "jawaban soal  10\n",
            "Akar kuadrat berbeda: x1 = -1.0, x2 = 3.0\n",
            "\n",
            "\n"
          ]
        }
      ],
      "source": [
        "import math\n",
        "\n",
        "def cari_akar_kuadrat(a, b, c):\n",
        "    # Hitung determinan\n",
        "    D = b**2 - 4*a*c\n",
        "\n",
        "    # Inisialisasi variabel untuk menyimpan nilai akar\n",
        "    x1 = None\n",
        "    x2 = None\n",
        "\n",
        "    # Cek nilai determinan\n",
        "    if D < 0:\n",
        "        print(\"Tidak ada akar kuadrat\")\n",
        "    elif D == 0:\n",
        "        x1 = -b / (2 * a)\n",
        "        print(f\"Akar kuadrat kembar: x1 = x2 = {x1}\")\n",
        "    else:\n",
        "        # math.sqrt adalah function bawaan dari modul math  yagn fungsinya\n",
        "        # untuk mencari akar quadrat dari suatu angka\n",
        "        x1 = (-b - math.sqrt(D)) / (2 * a)\n",
        "        x2 = (-b + math.sqrt(D)) / (2 * a)\n",
        "        print(f\"Akar kuadrat berbeda: x1 = {x1}, x2 = {x2}\")\n",
        "\n",
        "    return x1, x2\n",
        "\n",
        "\n",
        "data = [\n",
        "    {\"a\": 1, \"b\":-5, \"c\": 4},\n",
        "    {\"a\": 3, \"b\": 6, \"c\": 3},\n",
        "    {\"a\": 2, \"b\":-5, \"c\": 2},\n",
        "    {\"a\": 4, \"b\":12, \"c\": 9},\n",
        "    {\"a\": 1, \"b\": 8, \"c\":16},\n",
        "    {\"a\": 2, \"b\":-3, \"c\":-5},\n",
        "    {\"a\": 3, \"b\": 5, \"c\": 2},\n",
        "    {\"a\": 1, \"b\":-10, \"c\":25},\n",
        "    {\"a\": 2, \"b\": 7, \"c\": 3},\n",
        "    {\"a\": 4, \"b\": -8, \"c\":-12},\n",
        "    ]\n",
        "\n",
        "for ids , soal in enumerate(data):\n",
        "    a = soal[\"a\"]\n",
        "    b = soal[\"b\"]\n",
        "    c = soal[\"c\"]\n",
        "    print(\"jawaban soal \", ids+1 )\n",
        "    cari_akar_kuadrat(a, b, c)\n",
        "    print('\\n')"
      ]
    },
    {
      "cell_type": "code",
      "source": [],
      "metadata": {
        "id": "P-MLRCSVSx1d"
      },
      "execution_count": null,
      "outputs": []
    }
  ]
}